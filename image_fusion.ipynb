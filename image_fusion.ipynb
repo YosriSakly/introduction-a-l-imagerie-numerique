{
 "cells": [
  {
   "cell_type": "code",
   "execution_count": 110,
   "metadata": {},
   "outputs": [],
   "source": [
    "import cv2\n",
    "import numpy as np\n",
    "import matplotlib.pyplot as plt\n",
    "import os\n",
    "\n",
    "\n",
    "# Function for basis_details_decomposition (Corresponds to equation 10 and 11 from the article)\n",
    "def basis_details_decomposition(images_tuple, avg_size=31):\n",
    "    kernel = np.ones((avg_size, avg_size), np.float32) / avg_size ** 2\n",
    "    basis_list = []\n",
    "    details_list = []\n",
    "    for im in images_tuple:\n",
    "        basis = cv2.filter2D(im, -1, kernel)\n",
    "        details = im - basis\n",
    "        basis_list.append(basis)\n",
    "        details_list.append(im - basis)\n",
    "    return tuple(basis_list), tuple(details_list)\n",
    "\n",
    "\n",
    "# Function for saliencies (laplacian filter + gaussian lowpass filter)\n",
    "# Corresponds to equation 13 in the article\n",
    "def saliency_maps(images_tuple, lapsize, rg, sigmag):\n",
    "    saliency_list = []\n",
    "    for im in images_tuple:\n",
    "        laplacian = cv2.Laplacian(im, cv2.CV_64F, ksize=lapsize)\n",
    "        abs_laplacian = np.abs(laplacian)\n",
    "        saliency = cv2.GaussianBlur(abs_laplacian, (2 * rg + 1, 2 * rg + 1), sigmaX=sigmag)\n",
    "        saliency_list.append(saliency)\n",
    "        s=np.array(saliency_list)\n",
    "        saliency_list_normalized=list(s/np.sum(s,axis=0))\n",
    "    return tuple( saliency_list_normalized)\n",
    "\n",
    "\n",
    "# Weight map function (corresponds to equation (14) from the arcticle)\n",
    "def weight_map_construction(saliency_tuple):\n",
    "    # Intialize weight maps to zero\n",
    "    dims = saliency_tuple[0].shape\n",
    "    nims = len(saliency_tuple)\n",
    "    \n",
    "    weight_maps = [np.zeros(dims, dtype=int) for i in range(0, nims)]\n",
    "    \n",
    "    argmax=np.argmax(saliency_tuple,axis=0)\n",
    "    # Use that information to fill the weight maps\n",
    "    for i in range(0, nims):\n",
    "        # Get the indicator for each pixel and fill the corresponding arrays\n",
    "        weight_maps[i]= (argmax == i).astype(int)\n",
    "    return weight_maps\n",
    "\n",
    "\n",
    "# Produce refined weights maps using guided filtering (Function for equations 15 and 16 of the article)\n",
    "def refined_weight_maps(guides_tuple, images_tuple, r, eps):\n",
    "    nims = len(images_tuple)\n",
    "    outputs = []\n",
    "    for i in range(0, nims):\n",
    "        filtered = cv2.ximgproc.guidedFilter(cv2.convertScaleAbs(guides_tuple[i]), images_tuple[i], r, eps)\n",
    "        outputs.append(filtered)\n",
    "    return tuple(outputs)\n",
    "\n",
    "\n",
    "# Pixel by pixel normalization\n",
    "def weight_maps_normalization(weights_tuple):\n",
    "    \n",
    "    weights_list=np.array(weights_tuple)\n",
    "    weights_list=cv2.convertScaleAbs(weights_list*255)\n",
    "    weights_list=np.array(weights_list,dtype=float)/255\n",
    "    weights_list_normalized=list(weights_list/np.sum(weights_list,axis=0))\n",
    "    return tuple(weights_list_normalized)\n",
    "\n",
    "\n",
    "def images_weighted_average(weights_tuple, images_tuple):\n",
    "    size=np.array(weights_tuple).shape+(1,)\n",
    "    return np.sum(np.array(weights_tuple).reshape(size) * np.array(images_tuple), axis=0)\n",
    "\n",
    "\n",
    "\n",
    "\n",
    "\n",
    "\n"
   ]
  },
  {
   "cell_type": "code",
   "execution_count": 111,
   "metadata": {},
   "outputs": [],
   "source": [
    "##################### Loadings and other prerequisites #############################################################\n",
    "\n",
    "# Path to the data\n",
    "path = os.getcwd() + \"/Data/\"\n",
    "\n",
    "# Load two images with different focus\n",
    "image1 = cv2.imread(path + \"jug1.png\")\n",
    "image2 = cv2.imread(path + \"jug2.png\")\n",
    "\n",
    "\n"
   ]
  },
  {
   "cell_type": "code",
   "execution_count": 112,
   "metadata": {},
   "outputs": [
    {
     "data": {
      "text/plain": [
       "-1"
      ]
     },
     "execution_count": 112,
     "metadata": {},
     "output_type": "execute_result"
    }
   ],
   "source": [
    "# Plot them\n",
    "cv2.imshow(\"jug1\", image1)\n",
    "cv2.waitKey(0); cv2.destroyAllWindows(); cv2.waitKey(1)\n"
   ]
  },
  {
   "cell_type": "code",
   "execution_count": 113,
   "metadata": {},
   "outputs": [
    {
     "data": {
      "text/plain": [
       "-1"
      ]
     },
     "execution_count": 113,
     "metadata": {},
     "output_type": "execute_result"
    }
   ],
   "source": [
    "cv2.imshow(\"jug2\", image2)\n",
    "cv2.waitKey(0); cv2.destroyAllWindows(); cv2.waitKey(1)"
   ]
  },
  {
   "cell_type": "code",
   "execution_count": 114,
   "metadata": {},
   "outputs": [
    {
     "data": {
      "text/plain": [
       "-1"
      ]
     },
     "execution_count": 114,
     "metadata": {},
     "output_type": "execute_result"
    }
   ],
   "source": [
    "# ################### A : Two scales image decomposition ###########################################################\n",
    "\n",
    "images = (image1, image2)\n",
    "images_gray=tuple([cv2.cvtColor(img, cv2.COLOR_BGR2GRAY) for img in images])\n",
    "\n",
    "# Size of averaging kernel for basis/details decomposition\n",
    "avg_size = 31\n",
    "# Get basis and details images\n",
    "bases_tuple, details_tuple = basis_details_decomposition(images, avg_size)\n",
    "# See result of basis/details decomposition\n",
    "cv2.imshow(\"basis1\", bases_tuple[0])\n",
    "cv2.waitKey(0); cv2.destroyAllWindows(); cv2.waitKey(1)\n",
    "cv2.imshow(\"details1\", details_tuple[0])\n",
    "cv2.waitKey(0); cv2.destroyAllWindows(); cv2.waitKey(1)\n",
    "\n"
   ]
  },
  {
   "cell_type": "code",
   "execution_count": 115,
   "metadata": {},
   "outputs": [
    {
     "data": {
      "text/plain": [
       "-1"
      ]
     },
     "execution_count": 115,
     "metadata": {},
     "output_type": "execute_result"
    }
   ],
   "source": [
    "# ################### B : Weight map construction with guided filtering ############################################\n",
    "\n",
    "# Laplacian filter size\n",
    "lapsize = 3\n",
    "# Parameters for Gaussian lowpass filter\n",
    "rg = 5\n",
    "sigmag = 5\n",
    "# Compute laplacians\n",
    "saliency_tuple = saliency_maps(images_gray, lapsize, rg, sigmag)\n",
    "cv2.imshow(\"saliency1\", saliency_tuple[1])\n",
    "cv2.waitKey(0); cv2.destroyAllWindows(); cv2.waitKey(1)\n"
   ]
  },
  {
   "cell_type": "code",
   "execution_count": 103,
   "metadata": {},
   "outputs": [
    {
     "data": {
      "text/plain": [
       "Text(0.5,1,'Weight map 1 for details')"
      ]
     },
     "execution_count": 103,
     "metadata": {},
     "output_type": "execute_result"
    },
    {
     "data": {
      "image/png": "[encoded data removed]",
      "text/plain": [
       "<Figure size 432x288 with 1 Axes>"
      ]
     },
     "metadata": {
      "needs_background": "light"
     },
     "output_type": "display_data"
    },
    {
     "data": {
      "image/png": "[encoded data removed]",
      "text/plain": [
       "<Figure size 432x288 with 1 Axes>"
      ]
     },
     "metadata": {
      "needs_background": "light"
     },
     "output_type": "display_data"
    }
   ],
   "source": [
    "# Get the weight maps\n",
    "weight_maps = weight_map_construction(saliency_tuple)\n",
    "# Vizualize weight map, we multiply by 255 to distinguish the pixel equal to 1 from those equal to 0\n",
    "plt.figure()\n",
    "plt.imshow(255 * weight_maps[0])\n",
    "plt.title(\"Weight map 1 for base\")\n",
    "plt.figure()\n",
    "plt.imshow(255 * weight_maps[1])\n",
    "plt.title(\"Weight map 1 for details\")\n",
    "\n"
   ]
  },
  {
   "cell_type": "code",
   "execution_count": 104,
   "metadata": {},
   "outputs": [],
   "source": [
    "# Refined weight maps using guided filtering\n",
    "eps1 = 0.3\n",
    "r1 = 45\n",
    "refined_wm_basis = refined_weight_maps(weight_maps, images_gray, r1, eps1)\n",
    "eps2 = 1e-6\n",
    "r2 = 7\n",
    "refined_wm_details = refined_weight_maps(weight_maps, images_gray, r2, eps2)\n",
    "\n"
   ]
  },
  {
   "cell_type": "code",
   "execution_count": 105,
   "metadata": {},
   "outputs": [],
   "source": [
    "# Normalization of weight maps\n",
    "refined_normalized_bases = weight_maps_normalization(refined_wm_basis)\n",
    "refined_normalized_details = weight_maps_normalization(refined_wm_details)\n",
    "\n"
   ]
  },
  {
   "cell_type": "code",
   "execution_count": 106,
   "metadata": {},
   "outputs": [],
   "source": [
    "# Fused basis and fused details\n",
    "fused_bases = images_weighted_average(refined_normalized_bases, bases_tuple)\n",
    "fused_details = images_weighted_average(refined_normalized_details, details_tuple)\n",
    "\n",
    "\n"
   ]
  },
  {
   "cell_type": "code",
   "execution_count": 109,
   "metadata": {},
   "outputs": [
    {
     "data": {
      "text/plain": [
       "-1"
      ]
     },
     "execution_count": 109,
     "metadata": {},
     "output_type": "execute_result"
    }
   ],
   "source": [
    "# Fused image\n",
    "fused_image = fused_bases + fused_details\n",
    "fused_image_uint8 = cv2.convertScaleAbs(fused_image)\n",
    "cv2.imshow(\"Fused image\", fused_image_uint8)\n",
    "cv2.waitKey(0); cv2.destroyAllWindows(); cv2.waitKey(1)"
   ]
  },
  {
   "cell_type": "code",
   "execution_count": null,
   "metadata": {},
   "outputs": [],
   "source": []
  }
 ],
 "metadata": {
  "kernelspec": {
   "display_name": "Python 3",
   "language": "python",
   "name": "python3"
  },
  "language_info": {
   "codemirror_mode": {
    "name": "ipython",
    "version": 3
   },
   "file_extension": ".py",
   "mimetype": "text/x-python",
   "name": "python",
   "nbconvert_exporter": "python",
   "pygments_lexer": "ipython3",
   "version": "3.7.0"
  }
 },
 "nbformat": 4,
 "nbformat_minor": 2
}

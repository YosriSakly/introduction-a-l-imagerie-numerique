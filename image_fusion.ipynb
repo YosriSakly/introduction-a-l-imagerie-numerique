{
 "cells": [
  {
   "cell_type": "code",
   "execution_count": 576,
   "metadata": {},
   "outputs": [],
   "source": [
    "import cv2\n",
    "import numpy as np\n",
    "import matplotlib.pyplot as plt\n",
    "import os\n",
    "\n",
    "\n",
    "# Function for basis_details_decomposition (Corresponds to equation 10 and 11 from the article)\n",
    "def basis_details_decomposition(images_tuple, avg_size=31):\n",
    "    kernel = np.ones((avg_size, avg_size), np.float32) / avg_size ** 2\n",
    "    basis_list = []\n",
    "    details_list = []\n",
    "    for im in images_tuple:       \n",
    "        basis=cv2.boxFilter(im,-1,(avg_size,avg_size) )\n",
    "        details = im - basis\n",
    "        basis_list.append(basis)\n",
    "        details_list.append(im - basis)\n",
    "    return tuple(basis_list), tuple(details_list)\n",
    "\n",
    "\n",
    "# Function for saliencies (laplacian filter + gaussian lowpass filter)\n",
    "# Corresponds to equation 13 in the article\n",
    "def saliency_maps(images_tuple, lapsize, rg, sigmag):\n",
    "    saliency_list = []\n",
    "    for im in images_tuple:\n",
    "        laplacian = cv2.Laplacian(im, cv2.CV_64F, ksize=lapsize)\n",
    "        abs_laplacian = np.abs(laplacian)\n",
    "        saliency = cv2.GaussianBlur(abs_laplacian, (2 * rg + 1, 2 * rg + 1), sigmaX=sigmag)\n",
    "        saliency_list.append(saliency)\n",
    "        s=np.array(saliency_list)\n",
    "        saliency_list_normalized=list(s/np.sum(s,axis=0))\n",
    "    return tuple( saliency_list_normalized)\n",
    "\n",
    "\n",
    "# Weight map function (corresponds to equation (14) from the arcticle)\n",
    "def weight_map_construction(saliency_tuple):\n",
    "    # Intialize weight maps to zero\n",
    "    dims = saliency_tuple[0].shape\n",
    "    nims = len(saliency_tuple)\n",
    "    \n",
    "    weight_maps = [np.zeros(dims, dtype=int) for i in range(0, nims)]\n",
    "    # Loop over color channels (we have one weight map per channel)\n",
    "    argmax=np.argmax(saliency_tuple,axis=0)\n",
    "    # Use that information to fill the weight maps\n",
    "    for i in range(0, nims):\n",
    "        # Get the indicator for each pixel and fill the corresponding arrays\n",
    "        weight_maps[i]= (argmax == i).astype(int)*1.\n",
    "    return weight_maps\n",
    "\n",
    "\n",
    "# Produce refined weights maps using guided filtering (Function for equations 15 and 16 of the article)\n",
    "def refined_weight_maps(guides_tuple, images_tuple, r, eps):\n",
    "    nims = len(images_tuple)\n",
    "    outputs = []\n",
    "    for i in range(0, nims):\n",
    "        filtered = cv2.ximgproc.guidedFilter(cv2.convertScaleAbs(guides_tuple[i]), images_tuple[i], r, eps)\n",
    "        outputs.append(filtered)\n",
    "    return tuple(outputs)\n",
    "\n",
    "\n",
    "# Pixel by pixel normalization\n",
    "def weight_maps_normalization(weights_tuple):\n",
    "    \n",
    "    weights_list=np.array(list(weights_tuple))\n",
    "    weights_list_normalized=list(weights_list/np.sum(weights_list,axis=0))\n",
    "    return tuple(weights_list_normalized)\n",
    "\n",
    "\n",
    "def images_weighted_average(weights_tuple, images_tuple):\n",
    "    size=np.array(weights_tuple).shape+(1,)\n",
    "    return np.sum(np.array(weights_tuple).reshape(size) * np.array(images_tuple), axis=0)\n",
    "\n",
    "\n",
    "\n",
    "\n",
    "\n",
    "\n"
   ]
  },
  {
   "cell_type": "code",
   "execution_count": 577,
   "metadata": {},
   "outputs": [],
   "source": [
    "##################### Loadings and other prerequisites #############################################################\n",
    "\n",
    "# Path to the data\n",
    "path = os.getcwd() + \"/Data/\"\n",
    "\n",
    "# Load two images with different focus\n",
    "image1 = cv2.imread(path + \"book1.jpg\")\n",
    "image2 = cv2.imread(path + \"book2.jpg\")\n",
    "\n",
    "\n"
   ]
  },
  {
   "cell_type": "code",
   "execution_count": 578,
   "metadata": {},
   "outputs": [
    {
     "data": {
      "text/plain": [
       "-1"
      ]
     },
     "execution_count": 578,
     "metadata": {},
     "output_type": "execute_result"
    }
   ],
   "source": [
    "# Plot them\n",
    "cv2.imshow(\"book1\", image1)\n",
    "cv2.waitKey(0); cv2.destroyAllWindows(); cv2.waitKey(1)\n"
   ]
  },
  {
   "cell_type": "code",
   "execution_count": 579,
   "metadata": {},
   "outputs": [
    {
     "data": {
      "text/plain": [
       "-1"
      ]
     },
     "execution_count": 579,
     "metadata": {},
     "output_type": "execute_result"
    }
   ],
   "source": [
    "cv2.imshow(\"book2\", image2)\n",
    "cv2.waitKey(0); cv2.destroyAllWindows(); cv2.waitKey(1)"
   ]
  },
  {
   "cell_type": "code",
   "execution_count": 580,
   "metadata": {},
   "outputs": [
    {
     "data": {
      "text/plain": [
       "-1"
      ]
     },
     "execution_count": 580,
     "metadata": {},
     "output_type": "execute_result"
    }
   ],
   "source": [
    "# ################### A : Two scales image decomposition ###########################################################\n",
    "images = (image1, image2)\n",
    "images_gray=tuple([cv2.cvtColor(img, cv2.COLOR_BGR2GRAY) for img in images])\n",
    "image1 = image1.astype(float)\n",
    "image2 = image2.astype(float)\n",
    "images = (image1, image2)\n",
    "\n",
    "# Size of averaging kernel for basis/details decomposition\n",
    "avg_size = 31\n",
    "# Get basis and details images\n",
    "bases_tuple, details_tuple = basis_details_decomposition(images, avg_size)\n",
    "# See result of basis/details decomposition\n",
    "cv2.imshow(\"basis1\", bases_tuple[0])\n",
    "cv2.waitKey(0); cv2.destroyAllWindows(); cv2.waitKey(1)\n",
    "cv2.imshow(\"details1\", details_tuple[0])\n",
    "cv2.waitKey(0); cv2.destroyAllWindows(); cv2.waitKey(1)\n",
    "\n"
   ]
  },
  {
   "cell_type": "code",
   "execution_count": 581,
   "metadata": {},
   "outputs": [
    {
     "name": "stderr",
     "output_type": "stream",
     "text": [
      "C:\\Users\\sakly\\Anaconda3\\lib\\site-packages\\ipykernel_launcher.py:30: RuntimeWarning: invalid value encountered in true_divide\n"
     ]
    },
    {
     "data": {
      "text/plain": [
       "-1"
      ]
     },
     "execution_count": 581,
     "metadata": {},
     "output_type": "execute_result"
    }
   ],
   "source": [
    "# ################### B : Weight map construction with guided filtering ############################################\n",
    "\n",
    "# Laplacian filter size\n",
    "lapsize = 1\n",
    "# Parameters for Gaussian lowpass filter\n",
    "rg = 5\n",
    "sigmag = 5\n",
    "# Compute laplacians\n",
    "saliency_tuple = saliency_maps(images_gray, lapsize, rg, sigmag)\n",
    "cv2.imshow(\"saliency1\", saliency_tuple[0])\n",
    "cv2.waitKey(0); cv2.destroyAllWindows(); cv2.waitKey(1)\n"
   ]
  },
  {
   "cell_type": "code",
   "execution_count": 582,
   "metadata": {},
   "outputs": [
    {
     "data": {
      "text/plain": [
       "array([0.51585245, 0.50440094, 0.49930466, 0.48963951, 0.49572738,\n",
       "       0.47689555, 0.45569525, 0.41648401, 0.38345602, 0.33074189,\n",
       "       0.26983002, 0.23995301, 0.24361665, 0.21138715, 0.22157116,\n",
       "       0.25779073, 0.29217776, 0.33987366, 0.39029187, 0.42589734,\n",
       "       0.45885247, 0.49257851, 0.49887019, 0.50455422, 0.52621879,\n",
       "       0.53075249, 0.50603344, 0.5090304 , 0.50661129, 0.50870482,\n",
       "       0.51423129, 0.51521496, 0.5194053 , 0.53729037, 0.54675156,\n",
       "       0.56558106, 0.57608025, 0.61238764, 0.61507983, 0.60361504,\n",
       "       0.59673935, 0.59338838, 0.59411496, 0.57459998, 0.55602304,\n",
       "       0.53286375, 0.4928167 , 0.47196279, 0.4431434 , 0.42579777,\n",
       "       0.4027561 , 0.37376371, 0.36479442, 0.33772416, 0.33143181,\n",
       "       0.34581913, 0.36319344, 0.39141832, 0.41709213, 0.45501904,\n",
       "       0.46831694, 0.4920058 , 0.52820347, 0.55186424, 0.56437973,\n",
       "       0.58786191, 0.59501448, 0.61778423, 0.6298427 , 0.64958606,\n",
       "       0.65924417, 0.68484126, 0.71345713, 0.74046186, 0.74116255,\n",
       "       0.74883483, 0.75562056, 0.74876393, 0.72043644, 0.70324777,\n",
       "       0.68469687, 0.67340066, 0.63664183, 0.60482516, 0.58819637,\n",
       "       0.59224896, 0.60559406, 0.60042137, 0.59259378, 0.58940617,\n",
       "       0.58163311, 0.59899301, 0.58766431, 0.60046658, 0.62625925,\n",
       "       0.62117449, 0.61553734, 0.63161915, 0.66196078, 0.68928935,\n",
       "       0.70640815, 0.73267027, 0.74025479, 0.76202565, 0.77957146,\n",
       "       0.76832406, 0.77106356, 0.73924568, 0.67583357, 0.62996811,\n",
       "       0.5883436 , 0.54150046, 0.51528834, 0.49687543, 0.49119016,\n",
       "       0.49267792, 0.49421343, 0.50952136, 0.53823252, 0.57523127,\n",
       "       0.59589088, 0.61708868, 0.64701904, 0.64239072, 0.64484866,\n",
       "       0.64663798, 0.65254361, 0.65664359, 0.65726353, 0.65590017,\n",
       "       0.65861412, 0.64382083, 0.63983069, 0.64311258, 0.64633114,\n",
       "       0.63622969, 0.63469285, 0.61973   , 0.63251396, 0.65097236,\n",
       "       0.65195211, 0.63892912, 0.6393745 , 0.6404574 , 0.64096951,\n",
       "       0.64156898, 0.6522595 , 0.65087929, 0.64363024, 0.62893369,\n",
       "       0.63197249, 0.63652961, 0.64754019, 0.67481954, 0.64514255,\n",
       "       0.61017922, 0.6056188 , 0.58172321, 0.56635308, 0.56864886,\n",
       "       0.56308388, 0.54504451, 0.53553901, 0.52839851, 0.49327561,\n",
       "       0.49142543, 0.48087268, 0.43241546, 0.43329379, 0.41091029,\n",
       "       0.40450203, 0.39214489, 0.37636376, 0.36673274, 0.34218539,\n",
       "       0.34878116, 0.319491  , 0.28129856, 0.30640647, 0.26052323,\n",
       "       0.28217043, 0.25716701, 0.26918507, 0.30441342, 0.33997862,\n",
       "       0.36154358, 0.36743633, 0.35971909, 0.35344893, 0.32048963,\n",
       "       0.29203501, 0.26028563, 0.23278339, 0.20387929, 0.19473621,\n",
       "       0.2259393 , 0.26149587, 0.32611722, 0.39917808, 0.45203527,\n",
       "       0.49892897, 0.52036919, 0.5341838 , 0.51272776, 0.49517132,\n",
       "       0.47549144, 0.43217316, 0.39399924, 0.35327838, 0.32894315,\n",
       "       0.29617798, 0.25297709, 0.22452936, 0.20361645, 0.20088158,\n",
       "       0.19896693, 0.20005703, 0.20130143, 0.22040547, 0.27454062,\n",
       "       0.30347871, 0.33865885, 0.3808413 , 0.40842772, 0.42231434,\n",
       "       0.44086344, 0.46192799, 0.47549241, 0.48790558, 0.49453901,\n",
       "       0.49582272, 0.5008597 , 0.5132671 , 0.52282314, 0.54199876,\n",
       "       0.57761211, 0.59717585, 0.62184837, 0.62884369, 0.62187966,\n",
       "       0.60923431, 0.59082625, 0.57272717, 0.53911835, 0.51204437,\n",
       "       0.4771612 , 0.44299707, 0.43484479, 0.43122534, 0.4432627 ,\n",
       "       0.44888545, 0.45327897, 0.44973836, 0.43448719, 0.41143969,\n",
       "       0.40018746, 0.37885026, 0.36860755, 0.36701393, 0.35560132,\n",
       "       0.32233958, 0.29965593, 0.26005866, 0.23486134, 0.20895432,\n",
       "       0.18351934, 0.15540857, 0.16810175, 0.19383946, 0.19765115,\n",
       "       0.23256154, 0.28305436, 0.33164689, 0.39110309, 0.44630263,\n",
       "       0.47930393, 0.51125097, 0.55628124, 0.56962622, 0.56640215,\n",
       "       0.57621332, 0.5738798 , 0.57545002, 0.59687173, 0.57618995,\n",
       "       0.57994189, 0.5826539 , 0.5803344 , 0.59231882, 0.58409079,\n",
       "       0.60724854, 0.61720653, 0.61807246, 0.61949821, 0.60841031,\n",
       "       0.61412292, 0.60431252, 0.60369094, 0.59780362, 0.56663974,\n",
       "       0.54600862, 0.48332779, 0.45985661, 0.4455256 , 0.41552924,\n",
       "       0.39610414, 0.37451641, 0.37253902, 0.37913515, 0.39024195,\n",
       "       0.42196758, 0.43442887, 0.4767214 , 0.49228407, 0.53918674,\n",
       "       0.59611592, 0.62901185, 0.65246638, 0.66189   , 0.67480354,\n",
       "       0.68284332, 0.69536379, 0.70473004, 0.70844598, 0.7002472 ,\n",
       "       0.68614438, 0.68464143, 0.68565746, 0.66968304, 0.65773089,\n",
       "       0.62920314, 0.60201632, 0.59077131, 0.5834198 , 0.56508816,\n",
       "       0.56237628, 0.56534467, 0.56297218, 0.54613232, 0.54875555,\n",
       "       0.54028881, 0.53524811, 0.5248667 , 0.5098022 , 0.48441528,\n",
       "       0.47828723, 0.44843987, 0.42398363, 0.39483748, 0.39280753,\n",
       "       0.3964199 , 0.40347462, 0.40873487, 0.41764549, 0.42614373,\n",
       "       0.4442187 , 0.44739224, 0.47455658, 0.49355897, 0.50695259,\n",
       "       0.50015241, 0.48746205, 0.48506669, 0.4976573 , 0.48527699,\n",
       "       0.46128435, 0.45228098, 0.44529457, 0.44290016, 0.43055876,\n",
       "       0.42251641, 0.43548401, 0.40907154, 0.41029214, 0.39587431,\n",
       "       0.42398853, 0.45577428, 0.46543716, 0.48303567, 0.51421506,\n",
       "       0.53168452, 0.5516903 , 0.57703233, 0.63355909, 0.66343336,\n",
       "       0.71475422, 0.74887216, 0.78006406, 0.80378507, 0.8498713 ,\n",
       "       0.85632221, 0.83920063, 0.82912869, 0.81334532, 0.7930534 ,\n",
       "       0.7729219 , 0.75862551, 0.73421527, 0.70922056, 0.69245041,\n",
       "       0.6444847 , 0.63202374, 0.61228849, 0.58791649, 0.56587282,\n",
       "       0.55775156, 0.57156466, 0.57471976, 0.59861227, 0.60824592,\n",
       "       0.61636677, 0.61790879, 0.61517892, 0.61414247, 0.61714504,\n",
       "       0.62590017, 0.62592904, 0.61201034, 0.61310326, 0.61372515,\n",
       "       0.61926293, 0.64738927, 0.68633928, 0.69156243, 0.69338438,\n",
       "       0.6959553 , 0.70792292, 0.7265878 , 0.73475829, 0.75468413,\n",
       "       0.74002337, 0.71919952, 0.70310953, 0.70323719, 0.72152531,\n",
       "       0.71265243, 0.70295069, 0.69580185, 0.68658606, 0.68338819,\n",
       "       0.68845537, 0.69277432, 0.69786163, 0.67747218, 0.65288406,\n",
       "       0.61785056, 0.59850654, 0.58867265, 0.55844437, 0.51164204,\n",
       "       0.46440274, 0.4046264 , 0.37899926, 0.33466015, 0.35817431,\n",
       "       0.42047419, 0.47927475, 0.5162852 , 0.54895592, 0.61865915,\n",
       "       0.69165484, 0.7675214 , 0.81539939, 0.82147232, 0.85705345,\n",
       "       0.86569748, 0.88124015, 0.93547455, 0.94898827, 1.        ,\n",
       "       1.        , 1.        , 1.        , 1.        , 0.91488607,\n",
       "       0.85582829, 0.82782542, 0.80230869, 0.78920757, 0.78166018,\n",
       "       0.76263498, 0.75350684, 0.73896972, 0.72735331, 0.72510199,\n",
       "       0.73832574, 0.7434505 , 0.74653817, 0.75751447, 0.76277499,\n",
       "       0.73977852, 0.71788967, 0.72723969, 0.72506173, 0.66823532,\n",
       "       0.60146431, 0.57539898, 0.57937809, 0.55964557, 0.52424262,\n",
       "       0.51832793, 0.5130573 , 0.51752884, 0.50815544, 0.50309   ,\n",
       "       0.51820365, 0.55097802, 0.58858029, 0.59465902, 0.64036883,\n",
       "       0.67937731, 0.69614954, 0.72094699, 0.73274815, 0.73641332,\n",
       "       0.7424828 , 0.75474544, 0.76243927, 0.75824141, 0.75908634,\n",
       "       0.75346692, 0.76049117, 0.76811154, 0.79353398, 0.8140611 ,\n",
       "       0.81689874, 0.81557435, 0.82121576, 0.80862176, 0.79355836,\n",
       "       0.78571909, 0.74785937, 0.7213173 , 0.6927045 , 0.64665356,\n",
       "       0.62996559, 0.62353643, 0.6109265 , 0.57842765, 0.56818557,\n",
       "       0.54593562, 0.48474603, 0.49009755, 0.48739951, 0.47467658,\n",
       "       0.48004093, 0.48878333, 0.48994353, 0.49964563, 0.49549402,\n",
       "       0.49192304, 0.51007659, 0.50350684, 0.48687971, 0.49070986,\n",
       "       0.47413505, 0.45301458, 0.45472039, 0.45212032, 0.44936081,\n",
       "       0.47147912, 0.47647562, 0.46511349, 0.48381159, 0.49640644,\n",
       "       0.48820872, 0.50427291, 0.52528797, 0.51922996, 0.53632868,\n",
       "       0.52920507, 0.49432597, 0.47877892, 0.48177877, 0.47659552,\n",
       "       0.46735248, 0.46794269, 0.46632786, 0.46581859, 0.45761557,\n",
       "       0.46491568, 0.47836958, 0.49504479, 0.49435061, 0.50184152,\n",
       "       0.49867658, 0.50044443, 0.50699158, 0.53181759, 0.53478549,\n",
       "       0.55515717, 0.5603873 , 0.56545316, 0.57147613, 0.57965385,\n",
       "       0.53320841, 0.51984728, 0.49975303, 0.47805358, 0.45069843,\n",
       "       0.44228057, 0.44539424, 0.43468158, 0.45672377, 0.47204071,\n",
       "       0.47387155, 0.50505031, 0.5138349 , 0.5360182 , 0.54604335,\n",
       "       0.56013345, 0.5564794 , 0.55941485, 0.55849624, 0.5416356 ,\n",
       "       0.53885614, 0.53493605, 0.52631031, 0.5143654 , 0.48273047,\n",
       "       0.49161576, 0.51526141, 0.54685546, 0.59982913, 0.63248387,\n",
       "       0.68038748, 0.70272875, 0.71745291, 0.7238527 , 0.73552391,\n",
       "       0.74455477, 0.73042134, 0.70928468, 0.69387327, 0.63850539,\n",
       "       0.61012208, 0.55521643, 0.51848612, 0.49899069, 0.50868853,\n",
       "       0.51621542, 0.51342909, 0.52340858, 0.5156427 , 0.5224694 ,\n",
       "       0.51555596, 0.50532918, 0.51078176, 0.51352684, 0.52128729,\n",
       "       0.52600141, 0.52078986, 0.5268209 , 0.52420571, 0.54066892,\n",
       "       0.5322826 , 0.54086209, 0.54617657, 0.58364774, 0.62088431,\n",
       "       0.63100701, 0.64653118, 0.66062608, 0.6583867 , 0.66382299,\n",
       "       0.65163136, 0.63240337, 0.63252328, 0.6369592 , 0.6448248 ,\n",
       "       0.65297756, 0.68228526, 0.70716945, 0.72881747, 0.71082736,\n",
       "       0.65310204, 0.63515058, 0.62778555, 0.59843936, 0.57021639,\n",
       "       0.49513495, 0.43719108, 0.39672343, 0.37104094, 0.35715304,\n",
       "       0.36090711, 0.38160869, 0.38105518, 0.38940716, 0.40434536,\n",
       "       0.42321223, 0.46718042, 0.51297467, 0.54270703, 0.55823098,\n",
       "       0.56162632, 0.56587766, 0.56782502, 0.56775734, 0.54692124,\n",
       "       0.52619265, 0.49061464, 0.47834703, 0.47241128, 0.46672875,\n",
       "       0.47811336, 0.47155169, 0.46040956, 0.44853313, 0.43727496,\n",
       "       0.43308972, 0.42216027, 0.42708138, 0.39946501, 0.39704805,\n",
       "       0.39520857, 0.37945683, 0.37905248, 0.38298417, 0.38010729,\n",
       "       0.38743786, 0.38127875, 0.41224422, 0.44129467, 0.4641455 ,\n",
       "       0.47132602, 0.48978002, 0.50543324, 0.51221956, 0.51888161,\n",
       "       0.53888171, 0.53561963, 0.53391085, 0.50347156, 0.47819898,\n",
       "       0.46690375, 0.4693102 , 0.45270406, 0.44017669, 0.43138996,\n",
       "       0.413515  , 0.36618443, 0.32931921, 0.30304963, 0.2788362 ,\n",
       "       0.26023347, 0.26100257, 0.26610951, 0.29930864, 0.31134116,\n",
       "       0.34181111, 0.36192459, 0.40529398, 0.43803206, 0.41900449,\n",
       "       0.41423838, 0.41327139, 0.41418541, 0.41314575, 0.41369844,\n",
       "       0.4214458 , 0.43003305, 0.42659935, 0.42407736, 0.42468704,\n",
       "       0.46880911, 0.48603579, 0.49082812])"
      ]
     },
     "execution_count": 582,
     "metadata": {},
     "output_type": "execute_result"
    }
   ],
   "source": [
    "np.array(saliency_tuple)[0][:,-1]"
   ]
  },
  {
   "cell_type": "code",
   "execution_count": 583,
   "metadata": {},
   "outputs": [
    {
     "data": {
      "text/plain": [
       "Text(0.5,1,'Weight map 1 for details')"
      ]
     },
     "execution_count": 583,
     "metadata": {},
     "output_type": "execute_result"
    },
    {
     "data": {
      "image/png": "[encoded data removed]",
      "text/plain": [
       "<Figure size 432x288 with 1 Axes>"
      ]
     },
     "metadata": {
      "needs_background": "light"
     },
     "output_type": "display_data"
    },
    {
     "data": {
      "image/png": "[encoded data removed]",
      "text/plain": [
       "<Figure size 432x288 with 1 Axes>"
      ]
     },
     "metadata": {
      "needs_background": "light"
     },
     "output_type": "display_data"
    }
   ],
   "source": [
    "# Get the weight maps\n",
    "weight_maps = weight_map_construction(saliency_tuple)\n",
    "# Vizualize weight map, we multiply by 255 to distinguish the pixel equal to 1 from those equal to 0\n",
    "plt.figure()\n",
    "plt.imshow(255 * weight_maps[0])\n",
    "plt.title(\"Weight map 1 for base\")\n",
    "plt.figure()\n",
    "plt.imshow(255 * weight_maps[1])\n",
    "plt.title(\"Weight map 1 for details\")\n",
    "\n"
   ]
  },
  {
   "cell_type": "code",
   "execution_count": 584,
   "metadata": {},
   "outputs": [],
   "source": [
    "# Refined weight maps using guided filtering\n",
    "eps1 = 0.3\n",
    "r1 = 45\n",
    "refined_wm_basis = refined_weight_maps(weight_maps, images_gray, r1, eps1)\n",
    "eps2 = 1e-6\n",
    "r2 = 7\n",
    "refined_wm_details = refined_weight_maps(weight_maps, images_gray, r2, eps2)\n",
    "\n"
   ]
  },
  {
   "cell_type": "code",
   "execution_count": 585,
   "metadata": {},
   "outputs": [],
   "source": [
    "# Normalization of weight maps\n",
    "refined_normalized_bases = weight_maps_normalization(refined_wm_basis)\n",
    "refined_normalized_details = weight_maps_normalization(refined_wm_details)\n",
    "\n"
   ]
  },
  {
   "cell_type": "code",
   "execution_count": 586,
   "metadata": {},
   "outputs": [],
   "source": [
    "# Fused basis and fused details\n",
    "fused_bases = images_weighted_average(refined_normalized_bases, bases_tuple)\n",
    "fused_details = images_weighted_average(refined_normalized_details, details_tuple)\n",
    "\n",
    "\n"
   ]
  },
  {
   "cell_type": "code",
   "execution_count": null,
   "metadata": {},
   "outputs": [],
   "source": [
    "# Fused image\n",
    "fused_image = fused_bases + fused_details\n",
    "fused_image_uint8 = cv2.convertScaleAbs(fused_image)\n",
    "cv2.imshow(\"Fused image\", fused_image_uint8)\n",
    "cv2.waitKey(0); cv2.destroyAllWindows(); cv2.waitKey(1)"
   ]
  },
  {
   "cell_type": "code",
   "execution_count": null,
   "metadata": {},
   "outputs": [],
   "source": []
  }
 ],
 "metadata": {
  "kernelspec": {
   "display_name": "Python 3",
   "language": "python",
   "name": "python3"
  },
  "language_info": {
   "codemirror_mode": {
    "name": "ipython",
    "version": 3
   },
   "file_extension": ".py",
   "mimetype": "text/x-python",
   "name": "python",
   "nbconvert_exporter": "python",
   "pygments_lexer": "ipython3",
   "version": "3.7.0"
  }
 },
 "nbformat": 4,
 "nbformat_minor": 2
}
